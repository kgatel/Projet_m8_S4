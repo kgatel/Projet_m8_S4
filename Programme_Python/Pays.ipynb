{
 "cells": [
  {
   "cell_type": "code",
   "execution_count": 95,
   "metadata": {},
   "outputs": [],
   "source": [
    "import numpy as np\n",
    "import matplotlib.pyplot as plt"
   ]
  },
  {
   "cell_type": "code",
   "execution_count": 96,
   "metadata": {},
   "outputs": [
    {
     "data": {
      "text/plain": [
       "(704, 4)"
      ]
     },
     "execution_count": 96,
     "metadata": {},
     "output_type": "execute_result"
    }
   ],
   "source": [
    "Matrice = np.mat(np.loadtxt(\"datas1.2.csv\", delimiter=\";\",dtype=str)) #matrice contenant toutes les informations\n",
    "Variable = np.mat(Matrice[0,:]) #matrice contenant le nom de chacune des variables dans l'ordre\n",
    "\n",
    "X = np.array(Matrice[1:,15:19],dtype=str)\n",
    "X.shape"
   ]
  },
  {
   "cell_type": "code",
   "execution_count": 97,
   "metadata": {},
   "outputs": [],
   "source": [
    "for i in range(X.shape[0]):\n",
    "    for j in range(X.shape[1]):\n",
    "        if(X[i,j]=='?'):\n",
    "            X[i,j]=''\n"
   ]
  },
  {
   "cell_type": "code",
   "execution_count": 98,
   "metadata": {
    "scrolled": false
   },
   "outputs": [
    {
     "data": {
      "text/plain": [
       "array(['', '0', '1', 'Afghanistan', 'AmericanSamoa', 'Angola',\n",
       "       'Argentina', 'Armenia', 'Aruba', 'Asian', 'Australia', 'Austria',\n",
       "       'Azerbaijan', 'Bahamas', 'Bangladesh', 'Belgium', 'Black',\n",
       "       'Bolivia', 'Brazil', 'Burundi', 'Canada', 'Chile', 'China',\n",
       "       \"Costa Rica'\", 'Cyprus', \"Czech Republic'\", 'Ecuador', 'Egypt',\n",
       "       'Ethiopia', 'Finland', 'France', 'Germany',\n",
       "       \"Health care professional'\", 'Hispanic', \"Hong Kong'\", 'Iceland',\n",
       "       'India', 'Indonesia', 'Iran', 'Iraq', 'Ireland', 'Italy', 'Japan',\n",
       "       'Jordan', 'Kazakhstan', 'Latino', 'Lebanon', 'Malaysia', 'Mexico',\n",
       "       \"Middle Eastern '\", 'Nepal', 'Netherlands', \"New Zealand'\",\n",
       "       'Nicaragua', 'Niger', 'Oman', 'Others', 'Pakistan', 'Parent',\n",
       "       'Pasifika', 'Philippines', 'Portugal', 'Relative', 'Romania',\n",
       "       'Russia', \"Saudi Arabia'\", 'Self', 'Serbia', \"Sierra Leone'\",\n",
       "       \"South Africa'\", \"South Asian'\", 'Spain', \"Sri Lanka'\", 'Sweden',\n",
       "       'Tonga', 'Turkey', 'Turkish', 'Ukraine', \"United Arab Emirates'\",\n",
       "       \"United Kingdom'\", \"United States'\", 'Uruguay', \"Viet Nam'\",\n",
       "       'White-European', 'others'], dtype='<U25')"
      ]
     },
     "execution_count": 98,
     "metadata": {},
     "output_type": "execute_result"
    }
   ],
   "source": [
    "Xu=np.unique(X)\n",
    "Xu"
   ]
  },
  {
   "cell_type": "code",
   "execution_count": 99,
   "metadata": {},
   "outputs": [
    {
     "data": {
      "text/plain": [
       "array(['Afghanistan', 'AmericanSamoa', 'Angola', 'Argentina', 'Armenia',\n",
       "       'Aruba', 'Australia', 'Austria', 'Azerbaijan', 'Bahamas',\n",
       "       'Bangladesh', 'Belgium', 'Bolivia', 'Brazil', 'Burundi', 'Canada',\n",
       "       'Chile', 'China', \"Costa Rica'\", 'Cyprus', \"Czech Republic'\",\n",
       "       'Ecuador', 'Egypt', 'Ethiopia', 'Finland', 'France', 'Germany',\n",
       "       \"Hong Kong'\", 'Iceland', 'India', 'Indonesia', 'Iran', 'Iraq',\n",
       "       'Ireland', 'Italy', 'Japan', 'Jordan', 'Kazakhstan', 'Lebanon',\n",
       "       'Malaysia', 'Mexico', 'Nepal', 'Netherlands', \"New Zealand'\",\n",
       "       'Nicaragua', 'Niger', 'Oman', 'Pakistan', 'Philippines',\n",
       "       'Portugal', 'Romania', 'Russia', \"Saudi Arabia'\", 'Serbia',\n",
       "       \"Sierra Leone'\", \"South Africa'\", 'Spain', \"Sri Lanka'\", 'Sweden',\n",
       "       'Tonga', 'Turkey', 'Ukraine', \"United Arab Emirates'\",\n",
       "       \"United Kingdom'\", \"United States'\", 'Uruguay', \"Viet Nam'\"],\n",
       "      dtype='<U25')"
      ]
     },
     "execution_count": 99,
     "metadata": {},
     "output_type": "execute_result"
    }
   ],
   "source": [
    "Autisme = np.array(X[:,3],dtype=int)\n",
    "Pays = X[:,0]\n",
    "uPays=np.unique(Pays)\n",
    "uPays"
   ]
  },
  {
   "cell_type": "code",
   "execution_count": 114,
   "metadata": {},
   "outputs": [],
   "source": [
    "Paysvals = np.zeros((len(uPays),1))\n",
    "for i in range(len(Pays)):\n",
    "    for j in range(len(uPays)):\n",
    "        if(Pays[i]==uPays[j]):\n",
    "            Paysvals[j]=Paysvals[j]+1"
   ]
  },
  {
   "cell_type": "code",
   "execution_count": 101,
   "metadata": {},
   "outputs": [],
   "source": [
    "PaysVals = 100*Paysvals/np.sum(Paysvals)"
   ]
  },
  {
   "cell_type": "code",
   "execution_count": 118,
   "metadata": {
    "scrolled": true
   },
   "outputs": [
    {
     "name": "stdout",
     "output_type": "stream",
     "text": [
      "Parmi les individus\n",
      "1.8 % résident en  Afghanistan\n",
      "0.3 % résident en  AmericanSamoa\n",
      "0.1 % résident en  Angola\n",
      "0.3 % résident en  Argentina\n",
      "0.3 % résident en  Armenia\n",
      "0.1 % résident en  Aruba\n",
      "3.8 % résident en  Australia\n",
      "0.6 % résident en  Austria\n",
      "0.1 % résident en  Azerbaijan\n",
      "0.3 % résident en  Bahamas\n",
      "0.4 % résident en  Bangladesh\n",
      "0.4 % résident en  Belgium\n",
      "0.1 % résident en  Bolivia\n",
      "1.3 % résident en  Brazil\n",
      "0.1 % résident en  Burundi\n",
      "2.1 % résident en  Canada\n",
      "0.1 % résident en  Chile\n",
      "0.1 % résident en  China\n",
      "0.1 % résident en  Costa Rica'\n",
      "0.1 % résident en  Cyprus\n",
      "0.1 % résident en  Czech Republic'\n",
      "0.1 % résident en  Ecuador\n",
      "0.4 % résident en  Egypt\n",
      "0.3 % résident en  Ethiopia\n",
      "0.1 % résident en  Finland\n",
      "1.6 % résident en  France\n",
      "0.6 % résident en  Germany\n",
      "0.1 % résident en  Hong Kong'\n",
      "0.3 % résident en  Iceland\n",
      "11.5 % résident en  India\n",
      "0.1 % résident en  Indonesia\n",
      "1.0 % résident en  Iran\n",
      "0.1 % résident en  Iraq\n",
      "0.7 % résident en  Ireland\n",
      "0.7 % résident en  Italy\n",
      "0.1 % résident en  Japan\n",
      "6.7 % résident en  Jordan\n",
      "0.4 % résident en  Kazakhstan\n",
      "0.1 % résident en  Lebanon\n",
      "0.7 % résident en  Malaysia\n",
      "1.1 % résident en  Mexico\n",
      "0.1 % résident en  Nepal\n",
      "1.4 % résident en  Netherlands\n",
      "11.5 % résident en  New Zealand'\n",
      "0.1 % résident en  Nicaragua\n",
      "0.1 % résident en  Niger\n",
      "0.1 % résident en  Oman\n",
      "0.4 % résident en  Pakistan\n",
      "0.6 % résident en  Philippines\n",
      "0.1 % résident en  Portugal\n",
      "0.4 % résident en  Romania\n",
      "1.0 % résident en  Russia\n",
      "0.6 % résident en  Saudi Arabia'\n",
      "0.1 % résident en  Serbia\n",
      "0.1 % résident en  Sierra Leone'\n",
      "0.3 % résident en  South Africa'\n",
      "0.4 % résident en  Spain\n",
      "2.0 % résident en  Sri Lanka'\n",
      "0.3 % résident en  Sweden\n",
      "0.1 % résident en  Tonga\n",
      "0.1 % résident en  Turkey\n",
      "0.3 % résident en  Ukraine\n",
      "11.6 % résident en  United Arab Emirates'\n",
      "10.9 % résident en  United Kingdom'\n",
      "16.1 % résident en  United States'\n",
      "0.1 % résident en  Uruguay\n",
      "0.7 % résident en  Viet Nam'\n"
     ]
    }
   ],
   "source": [
    "a=1                                       #a le nombre de chiffre après la virgule\n",
    "print(\"Parmi les individus\")\n",
    "for i in range(len(uPays)):\n",
    "    print(round(float(PaysVals[i])*10**a)/10**a,\"% résident en \",uPays[i]) "
   ]
  },
  {
   "cell_type": "markdown",
   "metadata": {},
   "source": [
    "--> Beaucoup viennent des Etats-Unis"
   ]
  },
  {
   "cell_type": "code",
   "execution_count": 109,
   "metadata": {},
   "outputs": [],
   "source": [
    "Paysvals1 = np.zeros((len(uPays),1))\n",
    "for i in range(len(Pays)):\n",
    "    for j in range(len(uPays)):\n",
    "        if(np.logical_and(Pays[i]==uPays[j],Autisme[i]==1)):\n",
    "            Paysvals1[j]=Paysvals1[j]+1\n",
    "            \n",
    "PaysVals1 = 100*Paysvals1/np.sum(Paysvals1)"
   ]
  },
  {
   "cell_type": "code",
   "execution_count": 112,
   "metadata": {},
   "outputs": [
    {
     "name": "stdout",
     "output_type": "stream",
     "text": [
      "Parmi les individus atteints\n",
      "4.4 % résident en  Afghanistan\n",
      "0.0 % résident en  AmericanSamoa\n",
      "0.0 % résident en  Angola\n",
      "0.0 % résident en  Argentina\n",
      "1.1 % résident en  Armenia\n",
      "0.0 % résident en  Aruba\n",
      "7.7 % résident en  Australia\n",
      "0.0 % résident en  Austria\n",
      "0.0 % résident en  Azerbaijan\n",
      "1.1 % résident en  Bahamas\n",
      "1.1 % résident en  Bangladesh\n",
      "1.1 % résident en  Belgium\n",
      "0.0 % résident en  Bolivia\n",
      "5.5 % résident en  Brazil\n",
      "0.0 % résident en  Burundi\n",
      "3.3 % résident en  Canada\n",
      "0.0 % résident en  Chile\n",
      "0.0 % résident en  China\n",
      "1.1 % résident en  Costa Rica'\n",
      "0.0 % résident en  Cyprus\n",
      "0.0 % résident en  Czech Republic'\n",
      "0.0 % résident en  Ecuador\n",
      "1.1 % résident en  Egypt\n",
      "0.0 % résident en  Ethiopia\n",
      "0.0 % résident en  Finland\n",
      "2.2 % résident en  France\n",
      "0.0 % résident en  Germany\n",
      "0.0 % résident en  Hong Kong'\n",
      "0.0 % résident en  Iceland\n",
      "2.2 % résident en  India\n",
      "0.0 % résident en  Indonesia\n",
      "0.0 % résident en  Iran\n",
      "0.0 % résident en  Iraq\n",
      "1.1 % résident en  Ireland\n",
      "1.1 % résident en  Italy\n",
      "0.0 % résident en  Japan\n",
      "2.2 % résident en  Jordan\n",
      "0.0 % résident en  Kazakhstan\n",
      "0.0 % résident en  Lebanon\n",
      "1.1 % résident en  Malaysia\n",
      "1.1 % résident en  Mexico\n",
      "0.0 % résident en  Nepal\n",
      "4.4 % résident en  Netherlands\n",
      "3.3 % résident en  New Zealand'\n",
      "0.0 % résident en  Nicaragua\n",
      "0.0 % résident en  Niger\n",
      "0.0 % résident en  Oman\n",
      "0.0 % résident en  Pakistan\n",
      "0.0 % résident en  Philippines\n",
      "0.0 % résident en  Portugal\n",
      "1.1 % résident en  Romania\n",
      "1.1 % résident en  Russia\n",
      "0.0 % résident en  Saudi Arabia'\n",
      "0.0 % résident en  Serbia\n",
      "0.0 % résident en  Sierra Leone'\n",
      "0.0 % résident en  South Africa'\n",
      "1.1 % résident en  Spain\n",
      "0.0 % résident en  Sri Lanka'\n",
      "2.2 % résident en  Sweden\n",
      "0.0 % résident en  Tonga\n",
      "0.0 % résident en  Turkey\n",
      "0.0 % résident en  Ukraine\n",
      "3.3 % résident en  United Arab Emirates'\n",
      "18.7 % résident en  United Kingdom'\n",
      "25.3 % résident en  United States'\n",
      "1.1 % résident en  Uruguay\n",
      "0.0 % résident en  Viet Nam'\n"
     ]
    }
   ],
   "source": [
    "a=1                                       #a le nombre de chiffre après la virgule\n",
    "print(\"Parmi les individus atteints\")\n",
    "for i in range(len(uPays)):\n",
    "    print(round(float(PaysVals1[i])*10**a)/10**a,\"% résident en \",uPays[i]) "
   ]
  },
  {
   "cell_type": "code",
   "execution_count": 115,
   "metadata": {},
   "outputs": [],
   "source": [
    "Paysvals0 = np.zeros((len(uPays),1))\n",
    "for i in range(len(Pays)):\n",
    "    for j in range(len(uPays)):\n",
    "        if(np.logical_and(Pays[i]==uPays[j],Autisme[i]==0)):\n",
    "            Paysvals0[j]=Paysvals0[j]+1\n",
    "            \n",
    "PaysVals0 = 100*Paysvals0/np.sum(Paysvals0)"
   ]
  },
  {
   "cell_type": "code",
   "execution_count": 116,
   "metadata": {},
   "outputs": [
    {
     "name": "stdout",
     "output_type": "stream",
     "text": [
      "Parmi les individus atteints\n",
      "1.5 % résident en  Afghanistan\n",
      "0.3 % résident en  AmericanSamoa\n",
      "0.2 % résident en  Angola\n",
      "0.3 % résident en  Argentina\n",
      "0.2 % résident en  Armenia\n",
      "0.2 % résident en  Aruba\n",
      "3.3 % résident en  Australia\n",
      "0.7 % résident en  Austria\n",
      "0.2 % résident en  Azerbaijan\n",
      "0.2 % résident en  Bahamas\n",
      "0.3 % résident en  Bangladesh\n",
      "0.3 % résident en  Belgium\n",
      "0.2 % résident en  Bolivia\n",
      "0.7 % résident en  Brazil\n",
      "0.2 % résident en  Burundi\n",
      "2.0 % résident en  Canada\n",
      "0.2 % résident en  Chile\n",
      "0.2 % résident en  China\n",
      "0.0 % résident en  Costa Rica'\n",
      "0.2 % résident en  Cyprus\n",
      "0.2 % résident en  Czech Republic'\n",
      "0.2 % résident en  Ecuador\n",
      "0.3 % résident en  Egypt\n",
      "0.3 % résident en  Ethiopia\n",
      "0.2 % résident en  Finland\n",
      "1.5 % résident en  France\n",
      "0.7 % résident en  Germany\n",
      "0.2 % résident en  Hong Kong'\n",
      "0.3 % résident en  Iceland\n",
      "12.9 % résident en  India\n",
      "0.2 % résident en  Indonesia\n",
      "1.1 % résident en  Iran\n",
      "0.2 % résident en  Iraq\n",
      "0.7 % résident en  Ireland\n",
      "0.7 % résident en  Italy\n",
      "0.2 % résident en  Japan\n",
      "7.3 % résident en  Jordan\n",
      "0.5 % résident en  Kazakhstan\n",
      "0.2 % résident en  Lebanon\n",
      "0.7 % résident en  Malaysia\n",
      "1.1 % résident en  Mexico\n",
      "0.2 % résident en  Nepal\n",
      "1.0 % résident en  Netherlands\n",
      "12.7 % résident en  New Zealand'\n",
      "0.2 % résident en  Nicaragua\n",
      "0.2 % résident en  Niger\n",
      "0.2 % résident en  Oman\n",
      "0.5 % résident en  Pakistan\n",
      "0.7 % résident en  Philippines\n",
      "0.2 % résident en  Portugal\n",
      "0.3 % résident en  Romania\n",
      "1.0 % résident en  Russia\n",
      "0.7 % résident en  Saudi Arabia'\n",
      "0.2 % résident en  Serbia\n",
      "0.2 % résident en  Sierra Leone'\n",
      "0.3 % résident en  South Africa'\n",
      "0.3 % résident en  Spain\n",
      "2.3 % résident en  Sri Lanka'\n",
      "0.0 % résident en  Sweden\n",
      "0.2 % résident en  Tonga\n",
      "0.2 % résident en  Turkey\n",
      "0.3 % résident en  Ukraine\n",
      "12.9 % résident en  United Arab Emirates'\n",
      "9.8 % résident en  United Kingdom'\n",
      "14.7 % résident en  United States'\n",
      "0.0 % résident en  Uruguay\n",
      "0.8 % résident en  Viet Nam'\n"
     ]
    }
   ],
   "source": [
    "b=1                                       #a le nombre de chiffre après la virgule\n",
    "print(\"Parmi les individus atteints\")\n",
    "for i in range(len(uPays)):\n",
    "    print(round(float(PaysVals0[i])*10**a)/10**a,\"% résident en \",uPays[i]) "
   ]
  },
  {
   "cell_type": "code",
   "execution_count": 133,
   "metadata": {},
   "outputs": [],
   "source": [
    "ePays1=np.zeros((len(uPays),1))\n",
    "for i in range(len(Pays)):\n",
    "    for j in range (len(uPays)):\n",
    "        if(np.logical_and(Pays[i]==uPays[j],Autisme[i]==1)):\n",
    "            ePays1[j]=ePays1[j] + 1"
   ]
  },
  {
   "cell_type": "code",
   "execution_count": 134,
   "metadata": {},
   "outputs": [
    {
     "name": "stdout",
     "output_type": "stream",
     "text": [
      "30.8 % de ceux qui résident en  Afghanistan  sont atteints\n",
      "0.0 % de ceux qui résident en  AmericanSamoa  sont atteints\n",
      "0.0 % de ceux qui résident en  Angola  sont atteints\n",
      "0.0 % de ceux qui résident en  Argentina  sont atteints\n",
      "50.0 % de ceux qui résident en  Armenia  sont atteints\n",
      "0.0 % de ceux qui résident en  Aruba  sont atteints\n",
      "25.9 % de ceux qui résident en  Australia  sont atteints\n",
      "0.0 % de ceux qui résident en  Austria  sont atteints\n",
      "0.0 % de ceux qui résident en  Azerbaijan  sont atteints\n",
      "50.0 % de ceux qui résident en  Bahamas  sont atteints\n",
      "33.3 % de ceux qui résident en  Bangladesh  sont atteints\n",
      "33.3 % de ceux qui résident en  Belgium  sont atteints\n",
      "0.0 % de ceux qui résident en  Bolivia  sont atteints\n",
      "55.6 % de ceux qui résident en  Brazil  sont atteints\n",
      "0.0 % de ceux qui résident en  Burundi  sont atteints\n",
      "20.0 % de ceux qui résident en  Canada  sont atteints\n",
      "0.0 % de ceux qui résident en  Chile  sont atteints\n",
      "0.0 % de ceux qui résident en  China  sont atteints\n",
      "100.0 % de ceux qui résident en  Costa Rica'  sont atteints\n",
      "0.0 % de ceux qui résident en  Cyprus  sont atteints\n",
      "0.0 % de ceux qui résident en  Czech Republic'  sont atteints\n",
      "0.0 % de ceux qui résident en  Ecuador  sont atteints\n",
      "33.3 % de ceux qui résident en  Egypt  sont atteints\n",
      "0.0 % de ceux qui résident en  Ethiopia  sont atteints\n",
      "0.0 % de ceux qui résident en  Finland  sont atteints\n",
      "18.2 % de ceux qui résident en  France  sont atteints\n",
      "0.0 % de ceux qui résident en  Germany  sont atteints\n",
      "0.0 % de ceux qui résident en  Hong Kong'  sont atteints\n",
      "0.0 % de ceux qui résident en  Iceland  sont atteints\n",
      "2.5 % de ceux qui résident en  India  sont atteints\n",
      "0.0 % de ceux qui résident en  Indonesia  sont atteints\n",
      "0.0 % de ceux qui résident en  Iran  sont atteints\n",
      "0.0 % de ceux qui résident en  Iraq  sont atteints\n",
      "20.0 % de ceux qui résident en  Ireland  sont atteints\n",
      "20.0 % de ceux qui résident en  Italy  sont atteints\n",
      "0.0 % de ceux qui résident en  Japan  sont atteints\n",
      "4.3 % de ceux qui résident en  Jordan  sont atteints\n",
      "0.0 % de ceux qui résident en  Kazakhstan  sont atteints\n",
      "0.0 % de ceux qui résident en  Lebanon  sont atteints\n",
      "20.0 % de ceux qui résident en  Malaysia  sont atteints\n",
      "12.5 % de ceux qui résident en  Mexico  sont atteints\n",
      "0.0 % de ceux qui résident en  Nepal  sont atteints\n",
      "40.0 % de ceux qui résident en  Netherlands  sont atteints\n",
      "3.7 % de ceux qui résident en  New Zealand'  sont atteints\n",
      "0.0 % de ceux qui résident en  Nicaragua  sont atteints\n",
      "0.0 % de ceux qui résident en  Niger  sont atteints\n",
      "0.0 % de ceux qui résident en  Oman  sont atteints\n",
      "0.0 % de ceux qui résident en  Pakistan  sont atteints\n",
      "0.0 % de ceux qui résident en  Philippines  sont atteints\n",
      "0.0 % de ceux qui résident en  Portugal  sont atteints\n",
      "33.3 % de ceux qui résident en  Romania  sont atteints\n",
      "14.3 % de ceux qui résident en  Russia  sont atteints\n",
      "0.0 % de ceux qui résident en  Saudi Arabia'  sont atteints\n",
      "0.0 % de ceux qui résident en  Serbia  sont atteints\n",
      "0.0 % de ceux qui résident en  Sierra Leone'  sont atteints\n",
      "0.0 % de ceux qui résident en  South Africa'  sont atteints\n",
      "33.3 % de ceux qui résident en  Spain  sont atteints\n",
      "0.0 % de ceux qui résident en  Sri Lanka'  sont atteints\n",
      "100.0 % de ceux qui résident en  Sweden  sont atteints\n",
      "0.0 % de ceux qui résident en  Tonga  sont atteints\n",
      "0.0 % de ceux qui résident en  Turkey  sont atteints\n",
      "0.0 % de ceux qui résident en  Ukraine  sont atteints\n",
      "3.7 % de ceux qui résident en  United Arab Emirates'  sont atteints\n",
      "22.1 % de ceux qui résident en  United Kingdom'  sont atteints\n",
      "20.4 % de ceux qui résident en  United States'  sont atteints\n",
      "100.0 % de ceux qui résident en  Uruguay  sont atteints\n",
      "0.0 % de ceux qui résident en  Viet Nam'  sont atteints\n"
     ]
    }
   ],
   "source": [
    "a=1\n",
    "for i in range (len(ePays1)):\n",
    "    print(round(float(100*ePays1[i]/Paysvals[i])*10**a)/10**a,'% de ceux qui résident en ',uPays[i], ' sont atteints')"
   ]
  },
  {
   "cell_type": "markdown",
   "metadata": {},
   "source": [
    "--> Ces valeurs là sont les plus importantes"
   ]
  }
 ],
 "metadata": {
  "kernelspec": {
   "display_name": "Python 3",
   "language": "python",
   "name": "python3"
  },
  "language_info": {
   "codemirror_mode": {
    "name": "ipython",
    "version": 3
   },
   "file_extension": ".py",
   "mimetype": "text/x-python",
   "name": "python",
   "nbconvert_exporter": "python",
   "pygments_lexer": "ipython3",
   "version": "3.7.4"
  }
 },
 "nbformat": 4,
 "nbformat_minor": 2
}
